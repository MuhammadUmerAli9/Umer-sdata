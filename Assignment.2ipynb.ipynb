{
 "cells": [
  {
   "cell_type": "markdown",
   "id": "61ed061e-3cb6-48c7-bf58-4ded40e90e03",
   "metadata": {},
   "source": [
    "# Question 1: Age Group Classification\n",
    "Write a Python program that takes the age of a person as input and classifies them into one of the\n",
    "following age groups:\n",
    "Childquot; if the age is between 0 and 12 (inclusive).\n",
    "Teenager; if the age is between 13 and 19 (inclusive).\n",
    "Adult;if the age is between 20 and 64 (inclusive).\n",
    "Senior; if the age is 65 or older."
   ]
  },
  {
   "cell_type": "code",
   "execution_count": 2,
   "id": "031315d4-2b55-4c2f-8b9e-c8554c91ebd5",
   "metadata": {},
   "outputs": [
    {
     "name": "stdin",
     "output_type": "stream",
     "text": [
      "Enter your age:  60\n"
     ]
    },
    {
     "name": "stdout",
     "output_type": "stream",
     "text": [
      "Adult\n"
     ]
    }
   ],
   "source": [
    "age = int(input(\"Enter your age: \"))\n",
    "if age >= 0 and age <= 12:\n",
    "    print(\"Child\")\n",
    "elif age >= 13 and age <= 19:\n",
    "    print(\"Teenager\")\n",
    "elif age >= 20 and age <= 64:\n",
    "    print(\"Adult\")\n",
    "elif age >= 65:\n",
    "    print(\"Senior\")\n",
    "else:\n",
    "    print(\"Invalid age\")"
   ]
  },
  {
   "cell_type": "markdown",
   "id": "563da299-018e-42d5-9f04-d90b7b080162",
   "metadata": {},
   "source": [
    "# Question 2: Checking for Eligibility for Discount\n",
    "Write a Python program that determines if a customer is eligible for a discount. The program should\n",
    "take the customer&#39;s membership status and purchase amount as input and check the following\n",
    "conditions:\n",
    "The customer is a &quot;premium&quot; member and the purchase amount is greater than or equal to 1000.\n",
    "The customer is a &quot;regular&quot; member and the purchase amount is greater than or equal to 2000.\n",
    "If the customer meets either of the above conditions, print &quot;Eligible for discount&quot;, otherwise print\n",
    ";Not eligible for discount&quot;."
   ]
  },
  {
   "cell_type": "code",
   "execution_count": 4,
   "id": "49e18c69-50fa-4c19-bf06-c12e58a10da5",
   "metadata": {},
   "outputs": [
    {
     "name": "stdin",
     "output_type": "stream",
     "text": [
      "Enter your membership status (premium/regular):  regular\n",
      "Enter your purchase amount:  1000\n"
     ]
    },
    {
     "name": "stdout",
     "output_type": "stream",
     "text": [
      "Not eligible for discount\n"
     ]
    }
   ],
   "source": [
    "membership_status = input(\"Enter your membership status (premium/regular): \").lower()\n",
    "purchase_amount = float(input(\"Enter your purchase amount: \"))\n",
    "if (membership_status == \"premium\" and purchase_amount >= 1000) or (membership_status == \"regular\" and purchase_amount >= 2000):\n",
    "    print(\"Eligible for discount\")\n",
    "else:\n",
    "    print(\"Not eligible for discount\")"
   ]
  },
  {
   "cell_type": "markdown",
   "id": "c20287b4-85b7-4675-a233-7de4276ebb7f",
   "metadata": {},
   "source": [
    "# Question 3: Voting Eligibility Check\n",
    "Write a Python program that checks if a person is eligible to vote based on their age and citizenship\n",
    "status. The program should take the following inputs:\n",
    "Age (an integer).\n",
    "Citizenship status (a string: either &quot;citizen&quot; or &quot;non-citizen&quot;).\n",
    "\n",
    "The eligibility conditions are:\n",
    "The person must be at least 18 years old and a &quot;citizen&quot; to be eligible to vote.\n",
    "Alternatively, the person can be at least 16 years old and a &quot;citizen&quot; of a special region where voting is\n",
    "allowed from age 16.\n",
    "\n",
    "If the person meets either of the conditions, print &quot;Eligible to vote&quot;, otherwise print &quot;Not eligible to\n",
    "vote&quot;."
   ]
  },
  {
   "cell_type": "code",
   "execution_count": 5,
   "id": "d37701d8-c7df-4219-8130-04f6549c0a1e",
   "metadata": {},
   "outputs": [
    {
     "name": "stdin",
     "output_type": "stream",
     "text": [
      "Enter your age:  20\n",
      "Enter your citizenship status (citizen/non-citizen):  noncitizen\n"
     ]
    },
    {
     "name": "stdout",
     "output_type": "stream",
     "text": [
      "Not eligible to vote\n"
     ]
    }
   ],
   "source": [
    "age = int(input(\"Enter your age: \"))\n",
    "citizenship_status = input(\"Enter your citizenship status (citizen/non-citizen): \").lower()\n",
    "if (age >= 18 and citizenship_status == \"citizen\") or (age >= 16 and citizenship_status == \"citizen\"):\n",
    "    print(\"Eligible to vote\")\n",
    "else:\n",
    "    print(\"Not eligible to vote\")"
   ]
  },
  {
   "cell_type": "markdown",
   "id": "d9bc1d71-fc01-42bb-b78f-ac98b8668d94",
   "metadata": {},
   "source": [
    "# Question 4: Employee Salary Bonus Eligibility\n",
    "Write a Python program that determines if an employee is eligible for a salary bonus based on the\n",
    "following conditions:\n",
    "The employee&#39;s performance rating is &quot;Excellent&quot; and their years of service are greater than or equal\n",
    "to 5 years.\n",
    "The employee&#39;s performance rating is &quot;Good&quot; and their years of service are greater than or equal to\n",
    "10 years.\n",
    "The employee&#39;s performance rating is &quot;Satisfactory&quot; or their years of service are greater than or\n",
    "equal to 15 years.\n",
    "The employee is not eligible for a bonus if neither of these conditions is met.\n",
    "The program should print one of the following:\n",
    "&quot;Eligible for bonus&quot; if the employee meets any of the criteria.\n",
    "&quot;Not eligible for bonus&quot; if none of the conditions apply."
   ]
  },
  {
   "cell_type": "code",
   "execution_count": 6,
   "id": "47156a2d-2842-4c25-967d-fbbf2c821895",
   "metadata": {},
   "outputs": [
    {
     "name": "stdin",
     "output_type": "stream",
     "text": [
      "Enter your performance rating (Excellent/Good/Satisfactory):  good\n",
      "Enter your years of service:  11\n"
     ]
    },
    {
     "name": "stdout",
     "output_type": "stream",
     "text": [
      "Eligible for bonus\n"
     ]
    }
   ],
   "source": [
    "performance_rating = input(\"Enter your performance rating (Excellent/Good/Satisfactory): \").lower()\n",
    "years_of_service = int(input(\"Enter your years of service: \"))\n",
    "if (performance_rating == \"excellent\" and years_of_service >= 5) or \\\n",
    "   (performance_rating == \"good\" and years_of_service >= 10) or \\\n",
    "   (performance_rating == \"satisfactory\" or years_of_service >= 15):\n",
    "    print(\"Eligible for bonus\")\n",
    "else:\n",
    "    print(\"Not eligible for bonus\")"
   ]
  },
  {
   "cell_type": "markdown",
   "id": "99fab8d5-e1c8-4eac-a8dc-64518c55de64",
   "metadata": {},
   "source": [
    "# Question 5. Write a program that replaces spaces with underscores, counts how many underscores are\n",
    "there, and finds the position of the first underscore.\n",
    "Use text: &quot;I&#39;m learning Python programming&quot;?"
   ]
  },
  {
   "cell_type": "code",
   "execution_count": 7,
   "id": "4b1eea76-4180-48bc-8161-dc6c62bcc5ae",
   "metadata": {},
   "outputs": [
    {
     "name": "stdout",
     "output_type": "stream",
     "text": [
      "Modified text: I'm_learning_Python_programming\n",
      "Number of underscores: 3\n",
      "Position of the first underscore: 3\n"
     ]
    }
   ],
   "source": [
    "text = \"I'm learning Python programming\"\n",
    "modified_text = text.replace(\" \", \"_\")\n",
    "underscore_count = modified_text.count(\"_\")\n",
    "first_underscore_position = modified_text.find(\"_\")\n",
    "print(\"Modified text:\", modified_text)\n",
    "print(\"Number of underscores:\", underscore_count)\n",
    "print(\"Position of the first underscore:\", first_underscore_position)"
   ]
  },
  {
   "cell_type": "markdown",
   "id": "f226d140-5ccd-43e3-b3bf-4f1fd4bb9323",
   "metadata": {},
   "source": [
    "# Question 6:\n",
    "Write a Python program that:\n",
    " Takes a string as input.\n",
    " Prints all characters of the string except the last 3 using slicing.\n",
    " Prints every second character of the string using slicing.\n",
    " Prints the string in reverse using slicing"
   ]
  },
  {
   "cell_type": "code",
   "execution_count": 8,
   "id": "e1eb46bb-2b4f-4d40-9c04-f17d98aa4aed",
   "metadata": {},
   "outputs": [
    {
     "name": "stdin",
     "output_type": "stream",
     "text": [
      "Enter a string:  hello, world!\n"
     ]
    },
    {
     "name": "stdout",
     "output_type": "stream",
     "text": [
      "String except last 3 characters: hello, wor\n",
      "Every second character: hlo ol!\n",
      "Reversed string: !dlrow ,olleh\n"
     ]
    }
   ],
   "source": [
    "input_string = input(\"Enter a string: \")\n",
    "print(\"String except last 3 characters:\", input_string[:-3])\n",
    "\n",
    "# Print every second character of the string\n",
    "print(\"Every second character:\", input_string[::2])\n",
    "\n",
    "# Print the string in reverse\n",
    "print(\"Reversed string:\", input_string[::-1])"
   ]
  },
  {
   "cell_type": "markdown",
   "id": "ad632989-1a2c-4095-87e4-7b62cf08830e",
   "metadata": {},
   "source": [
    "# Question 7. Given a sentence, you need to reverse the order of the words in the sentence while\n",
    "preserving their original capitalization and spaces.\n",
    "Use text : &quot;Hello World, We are learning Python&quot;"
   ]
  },
  {
   "cell_type": "code",
   "execution_count": 9,
   "id": "93238520-bbfa-42d1-a87b-b05373062eb9",
   "metadata": {},
   "outputs": [
    {
     "name": "stdout",
     "output_type": "stream",
     "text": [
      "Reversed sentence: Python learning are We World, Hello\n"
     ]
    }
   ],
   "source": [
    "sentence = \"Hello World, We are learning Python\"\n",
    "words = sentence.split()\n",
    "reversed_sentence = \" \".join(reversed(words))\n",
    "print(\"Reversed sentence:\", reversed_sentence)"
   ]
  },
  {
   "cell_type": "markdown",
   "id": "b2f7436a-3972-452a-b5f1-a1fa4f04d62c",
   "metadata": {},
   "source": [
    "# Question 8. You have a product code that follows the format &quot;SKU-12345-XYZ&quot;. You need to:\n",
    "Remove the &quot;SKU-&quot; and the &quot;-XYZ&quot; from the product code. Extract and return the number"
   ]
  },
  {
   "cell_type": "code",
   "execution_count": 10,
   "id": "284522f5-0516-4b43-9417-a98e6789c04b",
   "metadata": {},
   "outputs": [
    {
     "name": "stdout",
     "output_type": "stream",
     "text": [
      "Extracted number: 12345\n"
     ]
    }
   ],
   "source": [
    "product_code = \"SKU-12345-XYZ\"\n",
    "extracted_number = product_code[4:-4]\n",
    "print(\"Extracted number:\", extracted_number)"
   ]
  },
  {
   "cell_type": "markdown",
   "id": "a15c4d8b-cd70-4d4b-ac38-381e75f92bfc",
   "metadata": {},
   "source": [
    "# Question 9. Write a Python program to check user password has following:\n",
    "Whether the string contains any uppercase characters. Whether the string contains any lowercase\n",
    "characters. Whether the string contains any spaces. Whether the string contains any special\n",
    "characters (anything other than letters, digits, and spaces)."
   ]
  },
  {
   "cell_type": "code",
   "execution_count": 12,
   "id": "e7c4c794-f3c8-4543-8d8a-2b5cf32669c6",
   "metadata": {},
   "outputs": [
    {
     "name": "stdin",
     "output_type": "stream",
     "text": [
      "Enter your password:  \"Hello World! 123\"\n"
     ]
    },
    {
     "name": "stdout",
     "output_type": "stream",
     "text": [
      "Contains uppercase letter: True\n",
      "Contains lowercase letter: True\n",
      "Contains space: True\n",
      "Contains special characters: True\n"
     ]
    }
   ],
   "source": [
    "import re\n",
    "def check_password(password):\n",
    "    has_uppercase = any(char.isupper() for char in password)\n",
    "    has_lowercase = any(char.islower() for char in password)\n",
    "    has_space = ' ' in password\n",
    "    has_special_char = bool(re.search(r'[^A-Za-z0-9 ]', password))\n",
    "    print(\"Contains uppercase letter:\", has_uppercase)\n",
    "    print(\"Contains lowercase letter:\", has_lowercase)\n",
    "    print(\"Contains space:\", has_space)\n",
    "    print(\"Contains special characters:\", has_special_char)\n",
    "password = input(\"Enter your password: \")\n",
    "check_password(password)"
   ]
  },
  {
   "cell_type": "markdown",
   "id": "0c016b7c-40e6-4d69-8e3f-1d6106a2b6f7",
   "metadata": {},
   "source": [
    "# Question 10: Find the Longest Word\n",
    "Write a Python program that finds the longest word in a given string.\n",
    "Example:\n",
    "Input: &quot;I love programming in Python&quot;\n",
    "Output: &quot;programming&quot;"
   ]
  },
  {
   "cell_type": "code",
   "execution_count": 13,
   "id": "10fecccd-acd4-407e-b540-b2e268e4a49a",
   "metadata": {},
   "outputs": [
    {
     "name": "stdin",
     "output_type": "stream",
     "text": [
      "Enter a sentence:  \"I love programming in Python\"\n"
     ]
    },
    {
     "name": "stdout",
     "output_type": "stream",
     "text": [
      "The longest word is: programming\n"
     ]
    }
   ],
   "source": [
    "def find_longest_word(sentence):\n",
    "    words = sentence.split()\n",
    "    longest_word = max(words, key=len)\n",
    "    return longest_word\n",
    "sentence = input(\"Enter a sentence: \")\n",
    "longest_word = find_longest_word(sentence)\n",
    "print(\"The longest word is:\", longest_word)"
   ]
  }
 ],
 "metadata": {
  "kernelspec": {
   "display_name": "Python 3 (ipykernel)",
   "language": "python",
   "name": "python3"
  },
  "language_info": {
   "codemirror_mode": {
    "name": "ipython",
    "version": 3
   },
   "file_extension": ".py",
   "mimetype": "text/x-python",
   "name": "python",
   "nbconvert_exporter": "python",
   "pygments_lexer": "ipython3",
   "version": "3.12.7"
  }
 },
 "nbformat": 4,
 "nbformat_minor": 5
}
