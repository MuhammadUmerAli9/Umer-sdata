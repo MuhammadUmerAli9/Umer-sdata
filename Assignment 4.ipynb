{
 "cells": [
  {
   "cell_type": "markdown",
   "id": "79f5d3ca-36a6-44e9-bc01-1791a6b588a3",
   "metadata": {},
   "source": [
    "# Q1. my_tuple = ( (1, 2, 3), [4, 5, 6], (&#39;apple&#39;, &#39;banana&#39;, &#39;cherry&#39;), [7, 8, 9] )\n",
    "• Print all elements from my_tuple on a new line (using for loop)\n",
    "• Create a new tuple by concatenating the first and last elements of my_tuple"
   ]
  },
  {
   "cell_type": "code",
   "execution_count": 6,
   "id": "58f19293-b048-483e-82f5-52a5cc03ee80",
   "metadata": {},
   "outputs": [
    {
     "name": "stdout",
     "output_type": "stream",
     "text": [
      "(1, 2, 3)\n",
      "[4, 5, 6]\n",
      "('apple', 'banana', 'cherry')\n",
      "[7, 8, 9]\n"
     ]
    }
   ],
   "source": [
    "my_tuple = ( (1, 2, 3), [4, 5, 6], ('apple', 'banana', 'cherry'), [7, 8, 9] )\n",
    "for element in my_tuple:\n",
    "    print(element)"
   ]
  },
  {
   "cell_type": "markdown",
   "id": "414b2b02-76d4-4834-afdb-f7a63ed2ffa5",
   "metadata": {},
   "source": [
    "# Q2. inventory = { &quot;The Great Gatsby&quot;: {&quot;price&quot;: 10.99, &quot;quantity&quot;: 5}, &quot;Rich dad poor dad&quot;: {&quot;price&quot;:\n",
    "8.99, &quot;quantity&quot;: 8}, &quot;Harry Potter&quot;: {&quot;price&quot;: 12.50, &quot;quantity&quot;: 2}, }\n",
    "• Add a new book in inventory using method and get all book titles using method\n",
    "• Remove a book if it&#39;s out of stock"
   ]
  },
  {
   "cell_type": "code",
   "execution_count": 7,
   "id": "633e7509-a7ce-46ae-a4ce-60e44255fbed",
   "metadata": {},
   "outputs": [
    {
     "name": "stdout",
     "output_type": "stream",
     "text": [
      "All book titles: ['The Great Gatsby', 'Rich dad poor dad', 'Harry Potter', '1984']\n",
      "\n",
      "Updated Inventory: {'The Great Gatsby': {'price': 10.99, 'quantity': 5}, 'Rich dad poor dad': {'price': 8.99, 'quantity': 8}, '1984': {'price': 9.99, 'quantity': 3}}\n"
     ]
    }
   ],
   "source": [
    "inventory = {\n",
    "    \"The Great Gatsby\": {\"price\": 10.99, \"quantity\": 5},\n",
    "    \"Rich dad poor dad\": {\"price\": 8.99, \"quantity\": 8},\n",
    "    \"Harry Potter\": {\"price\": 12.50, \"quantity\": 2}\n",
    "}\n",
    "def add_book(title, price, quantity):\n",
    "    inventory[title] = {\"price\": price, \"quantity\": quantity}\n",
    "def get_all_titles():\n",
    "    return list(inventory.keys())\n",
    "def remove_out_of_stock_books():\n",
    "    for title in list(inventory.keys()):\n",
    "        if inventory[title][\"quantity\"] == 0:\n",
    "            del inventory[title]\n",
    "add_book(\"1984\", 9.99, 3)\n",
    "book_titles = get_all_titles()\n",
    "print(\"All book titles:\", book_titles)\n",
    "inventory[\"Harry Potter\"][\"quantity\"] = 0\n",
    "remove_out_of_stock_books()\n",
    "print(\"\\nUpdated Inventory:\", inventory)"
   ]
  },
  {
   "cell_type": "markdown",
   "id": "4b531e00-4a73-483d-b389-a78ccb9463d6",
   "metadata": {},
   "source": [
    "# Q3. An ecommerce store stores information about its products in a nested dictionary. The outer\n",
    "dictionary uses product IDs as keys, and the inner dictionary stores product details like name,\n",
    "category, price, and stock quantity.\n",
    "products = { 101: {&quot;name&quot;: &quot;Laptop&quot;, &quot;category&quot;: &quot;Electronics&quot;, &quot;price&quot;: 1200, &quot;stock&quot;: 50}, 102:\n",
    "{&quot;name&quot;: &quot;Shirt&quot;, &quot;category&quot;: &quot;Apparel&quot;, &quot;price&quot;: 25, &quot;stock&quot;: 200}, 103: {&quot;name&quot;: &quot;Coffee Maker&quot;,\n",
    "&quot;category&quot;: &quot;Home Appliances&quot;, &quot;price&quot;: 80, &quot;stock&quot;: 30} }\n",
    "• Increase the stock of the &quot;Shirt&quot; product (add 50 more units)\n",
    "• Add a new product (e.g., &quot;Smartphone&quot;)"
   ]
  },
  {
   "cell_type": "code",
   "execution_count": 8,
   "id": "e0faa304-6b77-4340-bc13-bd24e99ecf2f",
   "metadata": {},
   "outputs": [
    {
     "name": "stdout",
     "output_type": "stream",
     "text": [
      "Stock of Shirt increased by 50 units.\n",
      "New product Smartphone added with ID 104.\n",
      "\n",
      "Updated Products Inventory:\n",
      "ID: 101, Name: Laptop, Category: Electronics, Price: 1200, Stock: 50\n",
      "ID: 102, Name: Shirt, Category: Apparel, Price: 25, Stock: 250\n",
      "ID: 103, Name: Coffee Maker, Category: Home Appliances, Price: 80, Stock: 30\n",
      "ID: 104, Name: Smartphone, Category: Electronics, Price: 800, Stock: 100\n"
     ]
    }
   ],
   "source": [
    "products = {\n",
    "    101: {\"name\": \"Laptop\", \"category\": \"Electronics\", \"price\": 1200, \"stock\": 50},\n",
    "    102: {\"name\": \"Shirt\", \"category\": \"Apparel\", \"price\": 25, \"stock\": 200},\n",
    "    103: {\"name\": \"Coffee Maker\", \"category\": \"Home Appliances\", \"price\": 80, \"stock\": 30}\n",
    "}\n",
    "def increase_stock(product_id, additional_stock):\n",
    "    if product_id in products:\n",
    "        products[product_id][\"stock\"] += additional_stock\n",
    "        print(f\"Stock of {products[product_id]['name']} increased by {additional_stock} units.\")\n",
    "    else:\n",
    "        print(f\"Product with ID {product_id} not found.\")\n",
    "def add_new_product(product_id, name, category, price, stock):\n",
    "    if product_id not in products:\n",
    "        products[product_id] = {\"name\": name, \"category\": category, \"price\": price, \"stock\": stock}\n",
    "        print(f\"New product {name} added with ID {product_id}.\")\n",
    "    else:\n",
    "        print(f\"Product ID {product_id} already exists.\")\n",
    "increase_stock(102, 50)\n",
    "add_new_product(104, \"Smartphone\", \"Electronics\", 800, 100)\n",
    "print(\"\\nUpdated Products Inventory:\")\n",
    "for product_id, details in products.items():\n",
    "    print(f\"ID: {product_id}, Name: {details['name']}, Category: {details['category']}, Price: {details['price']}, Stock: {details['stock']}\")"
   ]
  },
  {
   "cell_type": "markdown",
   "id": "b13c83e7-745b-44df-abb7-5ae26c02d6fd",
   "metadata": {},
   "source": [
    "# Q4. You are given a list that contains some duplicate items. Remove the duplicates by converting the\n",
    "list to a set.\n",
    "shopping_list = [&quot;apple&quot;, &quot;banana&quot;, &quot;apple&quot;, &quot;orange&quot;, &quot;banana&quot;, &quot;grape&quot;]"
   ]
  },
  {
   "cell_type": "code",
   "execution_count": 13,
   "id": "e170dfb4-f0cf-4242-9db7-c3bd6cb29393",
   "metadata": {},
   "outputs": [
    {
     "name": "stdout",
     "output_type": "stream",
     "text": [
      "Shopping list without duplicates: ['orange', 'banana', 'grape', 'apple']\n"
     ]
    }
   ],
   "source": [
    "shopping_list = [\"apple\", \"banana\", \"apple\", \"orange\", \"banana\", \"grape\"]\n",
    "unique_items = set(shopping_list)\n",
    "shopping_list_no_duplicates = list(unique_items)\n",
    "print(\"Shopping list without duplicates:\", shopping_list_no_duplicates)"
   ]
  },
  {
   "cell_type": "markdown",
   "id": "3d3429df-8de3-4a1a-84df-31b78f88a092",
   "metadata": {},
   "source": [
    "# Q5. You are managing a list of students enrolled in two different courses. You need to perform\n",
    "various set operations to understand the student enrollment. Task: Create two sets: one for students\n",
    "in &quot;Course A&quot; and one for students in &quot;Course B&quot;. Find the students who are in &quot;Course A&quot; but not in\n",
    "&quot;Course B&quot; (difference). Find students who are only in one of the two courses (symmetric\n",
    "difference). course_a = {&quot;John&quot;, &quot;Alice&quot;, &quot;Bob&quot;, &quot;David&quot;} course_b = {&quot;Alice&quot;, &quot;Eve&quot;, &quot;Charlie&quot;,\n",
    "&quot;David&quot;}\n",
    "• Find students who are in Course A but not in Course B (difference)\n",
    "• Find students who are only in one of the two courses (symmetric difference)"
   ]
  },
  {
   "cell_type": "code",
   "execution_count": 15,
   "id": "e3bbf507-e3ec-4f63-9f39-9faf85e7715a",
   "metadata": {},
   "outputs": [
    {
     "name": "stdout",
     "output_type": "stream",
     "text": [
      "Students in Course A but not in Course B: {'Bob', 'John'}\n",
      "Students who are only in one of the two courses: {'Charlie', 'Eve', 'John', 'Bob'}\n"
     ]
    }
   ],
   "source": [
    "course_a = {\"John\", \"Alice\", \"Bob\", \"David\"}\n",
    "course_b = {\"Alice\", \"Eve\", \"Charlie\", \"David\"}\n",
    "difference = course_a - course_b\n",
    "print(\"Students in Course A but not in Course B:\", difference)\n",
    "symmetric_difference = course_a ^ course_b\n",
    "print(\"Students who are only in one of the two courses:\", symmetric_difference)"
   ]
  },
  {
   "cell_type": "markdown",
   "id": "f1ab1b67-f344-4f69-832e-89218423bd0b",
   "metadata": {},
   "source": [
    "# Q6. Write a Python program that calculates the sum of all even numbers between 1 and 50\n",
    "(inclusive) using a for loop.\n",
    "Hint\n",
    "1. Initialize a variable to hold the sum (e.g., sum_of_evens).\n",
    "2. Use a for loop to iterate through all numbers from 1 to 50.\n",
    "3. Inside the loop, check if the number is even.\n",
    "4. If the number is even, add it to sum_of_evens.\n",
    "5. After the loop finishes, print the total sum of all even numbers between 1 and 50. "
   ]
  },
  {
   "cell_type": "code",
   "execution_count": 16,
   "id": "2297023d-fccb-4b39-94b7-f892a5f1822b",
   "metadata": {},
   "outputs": [
    {
     "name": "stdout",
     "output_type": "stream",
     "text": [
      "Sum of all even numbers between 1 and 50: 650\n"
     ]
    }
   ],
   "source": [
    "sum_of_evens = 0\n",
    "for num in range(1, 51):\n",
    "    if num % 2 == 0:\n",
    "        sum_of_evens += num\n",
    "print(\"Sum of all even numbers between 1 and 50:\", sum_of_evens)"
   ]
  },
  {
   "cell_type": "markdown",
   "id": "0728449a-df1f-40c8-9bf5-b3390d95ea55",
   "metadata": {},
   "source": [
    "# Q7. Write a Python program that prints the multiplication table for a given number (between 1 and\n",
    "10) using a for loop."
   ]
  },
  {
   "cell_type": "code",
   "execution_count": 18,
   "id": "e01989dd-015d-4fbe-a59d-891378906769",
   "metadata": {},
   "outputs": [
    {
     "name": "stdin",
     "output_type": "stream",
     "text": [
      "Enter a number between 1 and 10:  6\n"
     ]
    },
    {
     "name": "stdout",
     "output_type": "stream",
     "text": [
      "Multiplication table for 6:\n",
      "6 x 1 = 6\n",
      "6 x 2 = 12\n",
      "6 x 3 = 18\n",
      "6 x 4 = 24\n",
      "6 x 5 = 30\n",
      "6 x 6 = 36\n",
      "6 x 7 = 42\n",
      "6 x 8 = 48\n",
      "6 x 9 = 54\n",
      "6 x 10 = 60\n"
     ]
    }
   ],
   "source": [
    "num = int(input(\"Enter a number between 1 and 10: \"))\n",
    "if 1 <= num <= 10:\n",
    "    print(f\"Multiplication table for {num}:\")\n",
    "    for i in range(1, 11):  \n",
    "        print(f\"{num} x {i} = {num * i}\")\n",
    "else:\n",
    "    print(\"Please enter a valid number between 1 and 10.\")"
   ]
  },
  {
   "cell_type": "markdown",
   "id": "8c90d256-2b52-424b-bc4d-b082bfc86902",
   "metadata": {},
   "source": [
    "# Q8. Power of a Number\n",
    "Write a Python program that takes a number and prints the powers of the number (starting from 1\n",
    "to 10) using a while loop. For example, if the user inputs 3, the output should be:\n",
    "3^1 = 3\n",
    "3^2 = 9\n",
    "3^3 = 27\n",
    "... up to 3^10."
   ]
  },
  {
   "cell_type": "code",
   "execution_count": 20,
   "id": "905b9200-3e99-4d7b-a7f2-f422364eb05f",
   "metadata": {},
   "outputs": [
    {
     "name": "stdin",
     "output_type": "stream",
     "text": [
      "Enter a number:  7\n"
     ]
    },
    {
     "name": "stdout",
     "output_type": "stream",
     "text": [
      "7^1 = 7\n",
      "7^2 = 49\n",
      "7^3 = 343\n",
      "7^4 = 2401\n",
      "7^5 = 16807\n",
      "7^6 = 117649\n",
      "7^7 = 823543\n",
      "7^8 = 5764801\n",
      "7^9 = 40353607\n",
      "7^10 = 282475249\n"
     ]
    }
   ],
   "source": [
    "num = int(input(\"Enter a number: \"))\n",
    "exponent = 1\n",
    "while exponent <= 10:\n",
    "    result = num ** exponent\n",
    "    print(f\"{num}^{exponent} = {result}\")\n",
    "    exponent += 1"
   ]
  },
  {
   "cell_type": "markdown",
   "id": "3732cf7c-6cc4-460b-b65d-b7bbf907a869",
   "metadata": {},
   "source": [
    "# Q9. Problem Statement: Write a Python program that takes an integer input from the user and\n",
    "counts down from that number to 0. The program should display the current number at each step\n",
    "until it reaches 0, at which point it should print a message indicating the countdown is finished"
   ]
  },
  {
   "cell_type": "code",
   "execution_count": 22,
   "id": "cce82d60-1bab-495c-9fe2-615e625300e2",
   "metadata": {},
   "outputs": [
    {
     "name": "stdin",
     "output_type": "stream",
     "text": [
      "Enter a number to start the countdown:  5\n"
     ]
    },
    {
     "name": "stdout",
     "output_type": "stream",
     "text": [
      "5\n",
      "4\n",
      "3\n",
      "2\n",
      "1\n",
      "0\n",
      "Countdown finished!\n"
     ]
    }
   ],
   "source": [
    "num = int(input(\"Enter a number to start the countdown: \"))\n",
    "while num >= 0:\n",
    "    print(num)\n",
    "    num -= 1  \n",
    "print(\"Countdown finished!\")"
   ]
  },
  {
   "cell_type": "markdown",
   "id": "cb752f9d-3838-423a-bcdb-3f7551ef4cd9",
   "metadata": {},
   "source": [
    "# Q10. Write a Python program that takes an integer input n from the user and generates a right-\n",
    "angled triangle pattern of stars (*) with n rows. The first row should contain 1 star, the second row 2\n",
    "stars, the third row 3 stars, and so on until the nth row.\n",
    "Ensure the stars in each row are separated by spaces, and each row starts on a new line.\n",
    "# Pattern:\n",
    "*\n",
    "**\n",
    "***\n",
    "****\n",
    "*****"
   ]
  },
  {
   "cell_type": "code",
   "execution_count": 23,
   "id": "eb943937-7a9a-4ede-a6bf-efc51b8ad5b8",
   "metadata": {},
   "outputs": [
    {
     "name": "stdin",
     "output_type": "stream",
     "text": [
      "Enter the number of rows:  5\n"
     ]
    },
    {
     "name": "stdout",
     "output_type": "stream",
     "text": [
      "*\n",
      "* *\n",
      "* * *\n",
      "* * * *\n",
      "* * * * *\n"
     ]
    }
   ],
   "source": [
    "n = int(input(\"Enter the number of rows: \"))\n",
    "for i in range(1, n + 1):\n",
    "    print(\" \".join(\"*\" * i))"
   ]
  },
  {
   "cell_type": "code",
   "execution_count": null,
   "id": "63a7e8b1-88d5-45da-baa6-95201fd4ccd0",
   "metadata": {},
   "outputs": [],
   "source": []
  }
 ],
 "metadata": {
  "kernelspec": {
   "display_name": "Python 3 (ipykernel)",
   "language": "python",
   "name": "python3"
  },
  "language_info": {
   "codemirror_mode": {
    "name": "ipython",
    "version": 3
   },
   "file_extension": ".py",
   "mimetype": "text/x-python",
   "name": "python",
   "nbconvert_exporter": "python",
   "pygments_lexer": "ipython3",
   "version": "3.12.7"
  }
 },
 "nbformat": 4,
 "nbformat_minor": 5
}
