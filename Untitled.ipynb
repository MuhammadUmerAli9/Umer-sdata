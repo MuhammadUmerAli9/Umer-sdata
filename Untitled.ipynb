{
 "cells": [
  {
   "cell_type": "markdown",
   "id": "f924f3ed-1dbc-4717-830d-f9bfd199d7a2",
   "metadata": {},
   "source": [
    "# Q1. Write program to check a person’s eligibility for a loan based on age, credit score, and income. This time, the\n",
    "eligibility criteria will be:\n",
    "\n",
    "The person must be 18 years or older. The person must have a credit score of 650 or higher. The person must have\n",
    "an annual income of at least 30000 dollars If the person has a credit score of 700 or higher, they may still be eligible\n",
    "with an income of 25000 dollars or more."
   ]
  },
  {
   "cell_type": "code",
   "execution_count": 7,
   "id": "97ad8955-8ac7-4a67-8ec5-d18ba84a6529",
   "metadata": {},
   "outputs": [
    {
     "name": "stdin",
     "output_type": "stream",
     "text": [
      "Enter your age:  30\n",
      "Enter your credit score:  820\n",
      "Enter your annual income (in dollars):  5000\n"
     ]
    },
    {
     "name": "stdout",
     "output_type": "stream",
     "text": [
      "Not eligible: Income is too low.\n"
     ]
    }
   ],
   "source": [
    "def check_loan_eligibility(age, credit_score, income):\n",
    "    \n",
    "    if age < 18:\n",
    "        return \"Not eligible: Age must be 18 or older.\"\n",
    "    \n",
    "    \n",
    "    if credit_score >= 650:\n",
    "        if income >= 30000:\n",
    "            return \"Eligible for loan.\"\n",
    "        elif credit_score >= 700 and income >= 25000:\n",
    "            return \"Eligible for loan with credit score exception.\"\n",
    "        else:\n",
    "            return \"Not eligible: Income is too low.\"\n",
    "    \n",
    "    else:\n",
    "        return \"Not eligible: Credit score must be at least 650.\"\n",
    "\n",
    "\n",
    "age = int(input(\"Enter your age: \"))\n",
    "credit_score = int(input(\"Enter your credit score: \"))\n",
    "income = float(input(\"Enter your annual income (in dollars): \"))\n",
    "\n",
    "eligibility = check_loan_eligibility(age, credit_score, income)\n",
    "print(eligibility)"
   ]
  },
  {
   "cell_type": "markdown",
   "id": "dcc1863e-39e3-4e59-90ef-d74aa9fb254a",
   "metadata": {},
   "source": [
    "# Q2. Write a Python program that checks if a person is an adult (age ≥ 18).\n",
    "\n",
    "Take the age as input.\n",
    "If the person is underage (age &lt; 18), show message: &quot;You are underage&quot; and don&#39;t ask for experience.\n",
    "\n",
    "If the person is an adult, take years of experience as input and print:\n",
    "&quot;You have a lot of experience.&quot; (10+ years)\n",
    "&quot;You have moderate experience.&quot; (5-9 years)\n",
    "&quot;You are relatively new.&quot; (2-4 years)\n",
    "&quot;You are just starting out.&quot; (less than 2 years)"
   ]
  },
  {
   "cell_type": "code",
   "execution_count": 8,
   "id": "cb9445c6-fa1f-41ac-9ba6-a1b948e975f0",
   "metadata": {},
   "outputs": [
    {
     "name": "stdin",
     "output_type": "stream",
     "text": [
      "Enter your age:  30\n",
      "Enter your years of experience:  10\n"
     ]
    },
    {
     "name": "stdout",
     "output_type": "stream",
     "text": [
      "You have a lot of experience.\n"
     ]
    }
   ],
   "source": [
    "def check_experience(age):\n",
    "    if age < 18:\n",
    "        print(\"You are underage.\")\n",
    "    else:\n",
    "        \n",
    "        experience = int(input(\"Enter your years of experience: \"))\n",
    "        \n",
    "        if experience >= 10:\n",
    "            print(\"You have a lot of experience.\")\n",
    "        elif 5 <= experience <= 9:\n",
    "            print(\"You have moderate experience.\")\n",
    "        elif 2 <= experience <= 4:\n",
    "            print(\"You are relatively new.\")\n",
    "        else:\n",
    "            print(\"You are just starting out.\")\n",
    "\n",
    "age = int(input(\"Enter your age: \"))\n",
    "check_experience(age)\n"
   ]
  },
  {
   "cell_type": "markdown",
   "id": "83b57abf-0da5-46bc-a1d5-4d962723342b",
   "metadata": {},
   "source": [
    "# Q3. Write a program to explore below variables\n",
    "\n",
    "a) Print their memory address (to check if python assigns same address of different variables having same element)\n",
    "b) Find memory size and append them in a list, use this list to find data type having least memory size\n",
    "c) Print final name of data type which has lowest memory\n",
    "Result will help a programmer to decide which variable is storing less memory and variable locations"
   ]
  },
  {
   "cell_type": "code",
   "execution_count": 13,
   "id": "f7a0ffd2-f7c0-499e-b158-4722d7c9c0f8",
   "metadata": {},
   "outputs": [
    {
     "name": "stdout",
     "output_type": "stream",
     "text": [
      "Memory Address of var1 (int): 140728659094232\n",
      "Memory Address of var2 (int): 140728659094232\n",
      "Memory Address of var3 (float): 2591592697296\n",
      "Memory Address of var4 (string): 2591594374336\n",
      "Memory Address of var5 (list): 2591594470400\n",
      "Memory Address of var6 (dictionary): 2591594476608\n",
      "Memory Address of var7 (tuple): 2591594321984\n",
      "\n",
      "Memory Sizes of Variables:\n",
      "var1: 28 bytes\n",
      "var2: 28 bytes\n",
      "var3: 24 bytes\n",
      "var4: 46 bytes\n",
      "var5: 88 bytes\n",
      "var6: 184 bytes\n",
      "var7: 64 bytes\n",
      "\n",
      "The data type with the least memory size is var3 with 24 bytes.\n"
     ]
    }
   ],
   "source": [
    "import sys\n",
    "\n",
    "var1 = 10  \n",
    "var2 = 10  \n",
    "var3 = 3.14  \n",
    "var4 = \"Hello\"  \n",
    "var5 = [1, 2, 3]  \n",
    "var6 = {\"a\": 1, \"b\": 2}  \n",
    "var7 = (1, 2, 3)  \n",
    "\n",
    "print(f\"Memory Address of var1 (int): {id(var1)}\")\n",
    "print(f\"Memory Address of var2 (int): {id(var2)}\")\n",
    "print(f\"Memory Address of var3 (float): {id(var3)}\")\n",
    "print(f\"Memory Address of var4 (string): {id(var4)}\")\n",
    "print(f\"Memory Address of var5 (list): {id(var5)}\")\n",
    "print(f\"Memory Address of var6 (dictionary): {id(var6)}\")\n",
    "print(f\"Memory Address of var7 (tuple): {id(var7)}\")\n",
    "\n",
    "memory_sizes = []\n",
    "\n",
    "memory_sizes.append((\"var1\", sys.getsizeof(var1)))\n",
    "memory_sizes.append((\"var2\", sys.getsizeof(var2)))\n",
    "memory_sizes.append((\"var3\", sys.getsizeof(var3)))\n",
    "memory_sizes.append((\"var4\", sys.getsizeof(var4)))\n",
    "memory_sizes.append((\"var5\", sys.getsizeof(var5)))\n",
    "memory_sizes.append((\"var6\", sys.getsizeof(var6)))\n",
    "memory_sizes.append((\"var7\", sys.getsizeof(var7)))\n",
    "\n",
    "min_size_var = min(memory_sizes, key=lambda x: x[1])\n",
    "\n",
    "print(\"\\nMemory Sizes of Variables:\")\n",
    "for var, size in memory_sizes:\n",
    "    print(f\"{var}: {size} bytes\")\n",
    "\n",
    "print(f\"\\nThe data type with the least memory size is {min_size_var[0]} with {min_size_var[1]} bytes.\")\n"
   ]
  },
  {
   "cell_type": "markdown",
   "id": "96820952-41a9-4e34-a01f-cbc7c5d02a37",
   "metadata": {},
   "source": [
    "# Q4. Write a Python program that asks the user to enter an email address. The program should check if the email\n",
    "contains the characters @ and &quot;.&quot; (ignoring case). If either character is present, print &quot;Email format is valid.&quot;\n",
    "Otherwise, print &quot;Invalid email format.&quot;"
   ]
  },
  {
   "cell_type": "code",
   "execution_count": 15,
   "id": "4c3b8fdc-696c-4a20-a55a-19fbb61e8999",
   "metadata": {},
   "outputs": [
    {
     "name": "stdin",
     "output_type": "stream",
     "text": [
      "Enter your email address:  muhammadumerali132@gmail.com\n"
     ]
    },
    {
     "name": "stdout",
     "output_type": "stream",
     "text": [
      "Email format is valid.\n"
     ]
    }
   ],
   "source": [
    "def validate_email(email):\n",
    "    if '@' in email and '.' in email:\n",
    "        print(\"Email format is valid.\")\n",
    "    else:\n",
    "        print(\"Invalid email format.\")\n",
    "email = input(\"Enter your email address: \")\n",
    "validate_email(email)\n"
   ]
  },
  {
   "cell_type": "markdown",
   "id": "f6846da8-bc79-4a45-a7be-8825b78a94f7",
   "metadata": {},
   "source": [
    "# Q5. Write a python program to know data type of each element stored in a tuple, append the data types in a list.\n",
    "Show final output in a list as data types of tuple elements\n",
    "x = (11,22.333,&#39;apple&#39;,[1,2,3],(&#39;a&#39;,&#39;b&#39;))"
   ]
  },
  {
   "cell_type": "code",
   "execution_count": 16,
   "id": "8db75471-66ff-479b-a910-4859325a9fa3",
   "metadata": {},
   "outputs": [
    {
     "name": "stdout",
     "output_type": "stream",
     "text": [
      "Data types of tuple elements: [<class 'int'>, <class 'float'>, <class 'str'>, <class 'list'>, <class 'tuple'>]\n"
     ]
    }
   ],
   "source": [
    "x = (11, 22.333, 'apple', [1, 2, 3], ('a', 'b'))\n",
    "\n",
    "data_types = []\n",
    "for element in x:\n",
    "    data_types.append(type(element))\n",
    "print(\"Data types of tuple elements:\", data_types)\n"
   ]
  },
  {
   "cell_type": "markdown",
   "id": "6ac8e979-726f-4a33-b91f-7fc8fd016378",
   "metadata": {},
   "source": [
    "# Q6. Write a Python program that:\n",
    "Checks if a given username exists in a list of active users.\n",
    "Verifies if the user is the admin using identity operators.\n",
    "Hints:\n",
    "Use a list of tuples where each tuple contains a username and role\n",
    "[(&quot;alice&quot;, &quot;admin&quot;),\n",
    "(&quot;bob&quot;, &quot;user&quot;),\n",
    "(&quot;charlie&quot;, &quot;moderator&quot;)]\n",
    "Use the in operator to check if the username exists in the list.\n",
    "Use the is operator to check if the user is the admin (admin is a specific reference, e.g., (&quot;alice&quot;, &quot;admin&quot;))."
   ]
  },
  {
   "cell_type": "code",
   "execution_count": 18,
   "id": "9adc5ebd-4df1-4c82-bd26-791261ef2195",
   "metadata": {},
   "outputs": [
    {
     "name": "stdin",
     "output_type": "stream",
     "text": [
      "Enter the username to check:  alice\n"
     ]
    },
    {
     "name": "stdout",
     "output_type": "stream",
     "text": [
      "alice is the admin.\n"
     ]
    }
   ],
   "source": [
    "users = [\n",
    "    (\"alice\", \"admin\"),\n",
    "    (\"bob\", \"user\"),\n",
    "    (\"charlie\", \"moderator\")\n",
    "]\n",
    "\n",
    "def check_user_role(username):\n",
    "    user_found = False\n",
    "    for user, role in users:\n",
    "        if user == username:\n",
    "            user_found = True\n",
    "            if role == \"admin\":\n",
    "                print(f\"{username} is the admin.\")\n",
    "            else:\n",
    "                print(f\"{username} is not the admin. They are a {role}.\")\n",
    "            break\n",
    "    if not user_found:\n",
    "        print(f\"User {username} does not exist.\")\n",
    "username_to_check = input(\"Enter the username to check: \")\n",
    "check_user_role(username_to_check)\n"
   ]
  },
  {
   "cell_type": "markdown",
   "id": "2e05a500-2fb5-497d-b924-685621fba0c2",
   "metadata": {},
   "source": [
    "# Q7. person1 has same family as of person2, write a program to print relation between person1 and person2, if their\n",
    "data is [&#39;father name&#39;,&#39;mother name&#39;,&#39;district&#39;,&#39;family number&#39;] same (Print relation &#39;Siblings&#39;) also check person1\n",
    "data with person3 which is cousin of person1 (Print relation &#39;Cousin&#39;)\n",
    "Hint:\n",
    "Use identity operator"
   ]
  },
  {
   "cell_type": "code",
   "execution_count": 21,
   "id": "b8cd997d-c966-47dd-882e-0056669d0b43",
   "metadata": {},
   "outputs": [
    {
     "name": "stdout",
     "output_type": "stream",
     "text": [
      "Not Siblings\n",
      "Cousin\n"
     ]
    }
   ],
   "source": [
    "def check_relationship(person1_data, person2_data, person3_data):\n",
    "    if person1_data is person2_data:\n",
    "        print(\"Siblings\")\n",
    "    else:\n",
    "        print(\"Not Siblings\")\n",
    "    if person1_data is not person3_data:\n",
    "        print(\"Cousin\")\n",
    "    else:\n",
    "        print(\"Not Cousin\")\n",
    "person1_data = ['father name', 'mother name', 'district', 'family number']\n",
    "person2_data = ['father name', 'mother name', 'district', 'family number']\n",
    "person3_data = ['uncle name', 'aunt name', 'town', 'family number 2']\n",
    "check_relationship(person1_data, person2_data, person3_data)\n"
   ]
  },
  {
   "cell_type": "markdown",
   "id": "62e0ad17-41bb-49a2-b2f2-37fce74adc75",
   "metadata": {},
   "source": [
    "# Q8. Write a Python program to store and display a book&#39;s title, author, year of publication, and price using a tuple.\n",
    "\n",
    "Instructions:\n",
    "Create a tuple to store the book details.\n",
    "Ask the user for the book&#39;s title, author, year, and price.\n",
    "Display the stored book information."
   ]
  },
  {
   "cell_type": "code",
   "execution_count": 22,
   "id": "8f40a6ce-4d0e-4dd5-94d4-120c621e4f74",
   "metadata": {},
   "outputs": [
    {
     "name": "stdin",
     "output_type": "stream",
     "text": [
      "Enter the book's title:  python programming\n",
      "Enter the author's name:  john Doe\n",
      "Enter the year of publication:  2023\n",
      "Enter the price of the book:  29.99\n"
     ]
    },
    {
     "name": "stdout",
     "output_type": "stream",
     "text": [
      "\n",
      "Stored Book Information:\n",
      "Title: python programming\n",
      "Author: john Doe\n",
      "Year of Publication: 2023\n",
      "Price: $29.99\n"
     ]
    }
   ],
   "source": [
    "title = input(\"Enter the book's title: \")\n",
    "author = input(\"Enter the author's name: \")\n",
    "year = int(input(\"Enter the year of publication: \"))\n",
    "price = float(input(\"Enter the price of the book: \"))\n",
    "book_details = (title, author, year, price)\n",
    "print(\"\\nStored Book Information:\")\n",
    "print(f\"Title: {book_details[0]}\")\n",
    "print(f\"Author: {book_details[1]}\")\n",
    "print(f\"Year of Publication: {book_details[2]}\")\n",
    "print(f\"Price: ${book_details[3]:.2f}\")\n"
   ]
  },
  {
   "cell_type": "markdown",
   "id": "470bf3ac-e1f3-4ec7-90e1-b1e73e2ab11d",
   "metadata": {},
   "source": [
    "# Q9. Write a program to check if a user’s chosen subject is available in the list of offered subjects.\n",
    "Instructions:\n",
    "Given a list of subjects, ask the user to input a subject.\n",
    "Display whether the subject is available or not."
   ]
  },
  {
   "cell_type": "code",
   "execution_count": 24,
   "id": "bec1edf9-c31c-455f-9eb9-01c052b75481",
   "metadata": {},
   "outputs": [
    {
     "name": "stdin",
     "output_type": "stream",
     "text": [
      "Enter the subject you want to check:  computer\n"
     ]
    },
    {
     "name": "stdout",
     "output_type": "stream",
     "text": [
      "The subject 'computer' is not available.\n"
     ]
    }
   ],
   "source": [
    "offered_subjects = ['Mathematics', 'Physics', 'Chemistry', 'Biology', 'Computer Science', 'English']\n",
    "chosen_subject = input(\"Enter the subject you want to check: \")\n",
    "if chosen_subject.capitalize() in offered_subjects:\n",
    "    print(f\"The subject '{chosen_subject}' is available.\")\n",
    "else:\n",
    "    print(f\"The subject '{chosen_subject}' is not available.\")\n"
   ]
  },
  {
   "cell_type": "markdown",
   "id": "ee0934bf-9758-40e2-93f5-6c2145cd1631",
   "metadata": {},
   "source": [
    "# Q10. Write a Python program that performs the following tasks using tuple methods\n",
    "Create a tuple with multiple integer values, including duplicates.\n",
    "Prompt the user to input a number and find the index of its first occurrence in the tuple.\n",
    "Ask the user for another number and count how many times it appears in the tuple.\n",
    "Display appropriate messages based on the results"
   ]
  },
  {
   "cell_type": "code",
   "execution_count": 26,
   "id": "3ef49bc1-1cc9-4d44-9a09-f70664340781",
   "metadata": {},
   "outputs": [
    {
     "name": "stdin",
     "output_type": "stream",
     "text": [
      "Enter the first number to find its index:  30\n"
     ]
    },
    {
     "name": "stdout",
     "output_type": "stream",
     "text": [
      "The first occurrence of 30 is at index 2.\n"
     ]
    },
    {
     "name": "stdin",
     "output_type": "stream",
     "text": [
      "Enter the second number to count its occurrences:  20\n"
     ]
    },
    {
     "name": "stdout",
     "output_type": "stream",
     "text": [
      "The number 20 appears 4 time(s) in the tuple.\n"
     ]
    }
   ],
   "source": [
    "my_tuple = (10, 20, 30, 20, 40, 50, 20, 60, 70, 20)\n",
    "try:\n",
    "    num1 = int(input(\"Enter the first number to find its index: \"))\n",
    "    index_of_num1 = my_tuple.index(num1)  \n",
    "    print(f\"The first occurrence of {num1} is at index {index_of_num1}.\")\n",
    "except ValueError:\n",
    "    print(\"The number you entered is not in the tuple.\")\n",
    "num2 = int(input(\"Enter the second number to count its occurrences: \"))\n",
    "count_of_num2 = my_tuple.count(num2)\n",
    "\n",
    "if count_of_num2 > 0:\n",
    "    print(f\"The number {num2} appears {count_of_num2} time(s) in the tuple.\")\n",
    "else:\n",
    "    print(f\"The number {num2} does not appear in the tuple.\")\n"
   ]
  },
  {
   "cell_type": "markdown",
   "id": "62e350a7-39dd-4149-a681-82098ddab2eb",
   "metadata": {},
   "source": [
    "# Write a Python program that asks the user to enter the current temperature in Celsius and checks whether it&#39;s\n",
    "freezing, normal, or hot based on predefined temperature values.&quot;\n",
    "\n",
    "Assignment Requirements:\n",
    "Input: The user will be asked to enter the current temperature in Celsius.\n",
    "Predefined values:\n",
    "Freezing: -5\n",
    "Normal: 25\n",
    "Hot: 40"
   ]
  },
  {
   "cell_type": "code",
   "execution_count": 31,
   "id": "93a3c400-b828-4dca-81ea-feecd7759b15",
   "metadata": {},
   "outputs": [
    {
     "name": "stdin",
     "output_type": "stream",
     "text": [
      "Enter the current temperature in Celsius:  -5\n"
     ]
    },
    {
     "name": "stdout",
     "output_type": "stream",
     "text": [
      "The temperature is freezing!\n"
     ]
    }
   ],
   "source": [
    "temperature = float(input(\"Enter the current temperature in Celsius: \"))\n",
    "if temperature <= -5:\n",
    "    print(\"The temperature is freezing!\")\n",
    "elif temperature <= 25:\n",
    "    print(\"The temperature is normal.\")\n",
    "elif temperature <= 40:\n",
    "    print(\"The temperature is hot!\")\n",
    "else:\n",
    "    print(\"The temperature is extremely hot!\")\n"
   ]
  },
  {
   "cell_type": "code",
   "execution_count": null,
   "id": "b1df0225-5c27-4b34-9c30-0647e882a47d",
   "metadata": {},
   "outputs": [],
   "source": []
  }
 ],
 "metadata": {
  "kernelspec": {
   "display_name": "Python 3 (ipykernel)",
   "language": "python",
   "name": "python3"
  },
  "language_info": {
   "codemirror_mode": {
    "name": "ipython",
    "version": 3
   },
   "file_extension": ".py",
   "mimetype": "text/x-python",
   "name": "python",
   "nbconvert_exporter": "python",
   "pygments_lexer": "ipython3",
   "version": "3.12.7"
  }
 },
 "nbformat": 4,
 "nbformat_minor": 5
}
